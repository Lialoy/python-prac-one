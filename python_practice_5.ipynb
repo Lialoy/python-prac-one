{
 "cells": [
  {
   "cell_type": "markdown",
   "metadata": {
    "id": "awfU0tMnOlHH"
   },
   "source": [
    "# I. OOP"
   ]
  },
  {
   "cell_type": "markdown",
   "metadata": {
    "id": "T6r88C4sOwbI"
   },
   "source": [
    "1. (7б). Створіть клас Animal, додайте docstring, три атрибути, один з яких має значення за замовчуванням та два методи на свій розсуд."
   ]
  },
  {
   "cell_type": "code",
   "execution_count": 1,
   "metadata": {
    "id": "fWXuCGV8Oqrn"
   },
   "outputs": [],
   "source": [
    "class Animal:\n",
    "    \"\"\"\n",
    "    Клас Animal представляє загальні характеристики тварин.\n",
    "    \"\"\"\n",
    "\n",
    "    def __init__(self, name, age, species='Unknown'):\n",
    "        \"\"\"\n",
    "        Ініціалізує об'єкт класу Animal.\n",
    "\n",
    "        Параметри:\n",
    "        name (str): Ім'я тварини.\n",
    "        age (int): Вік тварини в роках.\n",
    "        species (str, optional): Вид тварини. За замовчуванням 'Unknown'.\n",
    "        \"\"\"\n",
    "        self.name = name\n",
    "        self.age = age\n",
    "        self.species = species\n",
    "\n",
    "    def describe(self):\n",
    "        \"\"\"\n",
    "        Описує тварину.\n",
    "        \"\"\"\n",
    "        return f\"Це - {self.species}. Її звуть {self.name} і їй {self.age} років.\"\n",
    "\n",
    "    def make_sound(self):\n",
    "        \"\"\"\n",
    "        Виводить звук, який видає тварина. Може бути перевизначено в підкласах.\n",
    "        \"\"\"\n",
    "        return \"Ця тварина робить деякий звук.\"\n"
   ]
  },
  {
   "cell_type": "markdown",
   "metadata": {
    "id": "CTu5Dt0_UKul"
   },
   "source": [
    "1.1. (5б). Створіть два обʼєкти цього класу. На одному обʼєкті отримайте значення його атрибуту, а на іншому викличте один з його методів."
   ]
  },
  {
   "cell_type": "code",
   "execution_count": 2,
   "metadata": {
    "id": "nLQqAIlKUQRP"
   },
   "outputs": [
    {
     "name": "stdout",
     "output_type": "stream",
     "text": [
      "Ім'я першої тварини: Петро\n",
      "Це - Собака. Її звуть Ахіллес і їй 7 років.\n"
     ]
    }
   ],
   "source": [
    "animal1 = Animal('Петро', 5, 'Кіт')\n",
    "animal2 = Animal('Ахіллес', 7, 'Собака')\n",
    "\n",
    "name_animal1 = animal1.name\n",
    "print(f\"Ім'я першої тварини: {name_animal1}\")\n",
    "\n",
    "description_animal2 = animal2.describe()\n",
    "print(description_animal2)\n"
   ]
  },
  {
   "cell_type": "markdown",
   "metadata": {
    "id": "3KKpQYcWRNgj"
   },
   "source": [
    "2. (9б). Створіть клас, де атрибути мають різні рівні доступу. Спробуйте отримати їхні значення та опишіть результати."
   ]
  },
  {
   "cell_type": "code",
   "execution_count": 4,
   "metadata": {
    "id": "PlMQmzciRM_D"
   },
   "outputs": [
    {
     "name": "stdout",
     "output_type": "stream",
     "text": [
      "Я публічний атрибут\n",
      "Я захищений атрибут\n"
     ]
    },
    {
     "ename": "AttributeError",
     "evalue": "'MyClass' object has no attribute '__private_attribute'",
     "output_type": "error",
     "traceback": [
      "\u001b[1;31m---------------------------------------------------------------------------\u001b[0m",
      "\u001b[1;31mAttributeError\u001b[0m                            Traceback (most recent call last)",
      "Cell \u001b[1;32mIn[4], line 11\u001b[0m\n\u001b[0;32m      9\u001b[0m \u001b[38;5;28mprint\u001b[39m(obj\u001b[38;5;241m.\u001b[39mpublic_attribute)  \u001b[38;5;66;03m# Виведе: Я публічний атрибут\u001b[39;00m\n\u001b[0;32m     10\u001b[0m \u001b[38;5;28mprint\u001b[39m(obj\u001b[38;5;241m.\u001b[39m_protected_attribute)  \u001b[38;5;66;03m# Виведе: Я захищений атрибут\u001b[39;00m\n\u001b[1;32m---> 11\u001b[0m \u001b[38;5;28mprint\u001b[39m(\u001b[43mobj\u001b[49m\u001b[38;5;241;43m.\u001b[39;49m\u001b[43m__private_attribute\u001b[49m)  \u001b[38;5;66;03m# Виведе помилку AttributeError\u001b[39;00m\n",
      "\u001b[1;31mAttributeError\u001b[0m: 'MyClass' object has no attribute '__private_attribute'"
     ]
    }
   ],
   "source": [
    "class MyClass:\n",
    "    def __init__(self):\n",
    "        self.public_attribute = \"Я публічний атрибут\"\n",
    "        self._protected_attribute = \"Я захищений атрибут\"\n",
    "        self.__private_attribute = \"Я приватний атрибут\"\n",
    "\n",
    "obj = MyClass()\n",
    "\n",
    "print(obj.public_attribute)  # Виведе: Я публічний атрибут\n",
    "print(obj._protected_attribute)  # Виведе: Я захищений атрибут\n",
    "print(obj.__private_attribute)  # Виведе помилку AttributeError\n"
   ]
  },
  {
   "cell_type": "markdown",
   "metadata": {
    "id": "iaoOLp4RRZyc"
   },
   "source": [
    "3. (8б). Як ви розумієте термін self? Для чого використовується метод __init __?"
   ]
  },
  {
   "cell_type": "markdown",
   "metadata": {
    "id": "-yuvBRjFRlz5"
   },
   "source": [
    "*self - посилання на екземпляр поточного об'єкта, __init__ - викликається автоматично при створенні об'єкта класу*"
   ]
  },
  {
   "cell_type": "markdown",
   "metadata": {
    "id": "nVectYeATZAi"
   },
   "source": [
    "4. (8б). Створіть клас Фігура без атрибутів, з методом get_area для отримання площі фігури, що повертає 0 та __add __, який приймає self та other в якості аргументів, а повертає суму площин фігур self та other."
   ]
  },
  {
   "cell_type": "code",
   "execution_count": 5,
   "metadata": {
    "id": "EYvcpzHbRZLz"
   },
   "outputs": [],
   "source": [
    "class Figure:\n",
    "    def get_area(self):\n",
    "        \"\"\"\n",
    "        Отримує площу фігури. Для базового класу Figure це завжди 0.\n",
    "        \"\"\"\n",
    "        return 0\n",
    "\n",
    "    def __add__(self, other):\n",
    "        \"\"\"\n",
    "        Додає площі двох фігур разом.\n",
    "\n",
    "        Параметри:\n",
    "        other (Figure): Інша фігура, площу якої потрібно додати.\n",
    "\n",
    "        Повертає:\n",
    "        int: Сума площ двох фігур.\n",
    "        \"\"\"\n",
    "        return self.get_area() + other.get_area()\n"
   ]
  },
  {
   "cell_type": "markdown",
   "metadata": {
    "id": "PheOkqlCg9SD"
   },
   "source": [
    "5. (11б). Створіть 2 дочірніх класи від Фігури: Трикутник та Коло, які мають атрибути, необхідні для розрахунку площин. Визначте метод get_area в кожному з них так, щоби вони розраховували площу в залежності від формули для кожного типу фігури. Створіть обʼєкт класу Трикутник та обʼєкт класу Коло. Виконайте операцію суми за допомогою оператора + між ними."
   ]
  },
  {
   "cell_type": "code",
   "execution_count": 6,
   "metadata": {
    "id": "7Jo8-rqlhNSw"
   },
   "outputs": [],
   "source": [
    "class Triangle(Figure):\n",
    "    def __init__(self, base, height):\n",
    "        self.base = base\n",
    "        self.height = height\n",
    "\n",
    "    def get_area(self):\n",
    "        return 0.5 * self.base * self.height\n",
    "\n",
    "class Circle(Figure):\n",
    "    def __init__(self, radius):\n",
    "        self.radius = radius\n",
    "\n",
    "    def get_area(self):\n",
    "        return math.pi * (self.radius ** 2)"
   ]
  },
  {
   "cell_type": "markdown",
   "metadata": {
    "id": "WxW51aGIhN2q"
   },
   "source": [
    "6. (7б). Продемонструйте різницю між isinstance та issubclass."
   ]
  },
  {
   "cell_type": "code",
   "execution_count": 7,
   "metadata": {
    "id": "E-QybeYShdAu"
   },
   "outputs": [
    {
     "name": "stdout",
     "output_type": "stream",
     "text": [
      "True\n",
      "True\n"
     ]
    }
   ],
   "source": [
    "figure = Figure()\n",
    "\n",
    "print(isinstance(figure, Figure)) # Виведе True\n",
    "print(issubclass(Triangle, Figure)) # Виведе True\n",
    "\n",
    "# У цьому прикладі figure є екземпляром Figure\n",
    "# Метод isinstance() повертає булеве значення в залежності від того, чи є об'єкт екземпляром класу\n",
    "# Метод issubclass() повертає булеве значення в залежності від того чи є один клад дочірнім класом іншого"
   ]
  },
  {
   "cell_type": "markdown",
   "metadata": {
    "id": "Mrup7UL3hfC3"
   },
   "source": [
    "7. (16б). Створіть клас BankAccount з приватними атрибутами balance та account_number.\n",
    "Реалізуйте методи поповнення та зняття коштів, забезпечивши належну інкапсуляцію. Підказка: використовуйте декоратори getter та setter."
   ]
  },
  {
   "cell_type": "code",
   "execution_count": null,
   "metadata": {
    "id": "Vi8gw9G6i37Y"
   },
   "outputs": [],
   "source": [
    "class BankAccount:\n",
    "    def __init__(self, account_number, balance=0):\n",
    "        self.__account_number = account_number\n",
    "        self.__balance = balance\n",
    "\n",
    "    @property\n",
    "    def balance(self):\n",
    "        return self.__balance\n",
    "\n",
    "    @balance.setter\n",
    "    def balance(self, amount):\n",
    "        if amount < 0:\n",
    "            raise ValueError(\"Баланс не може бути від'ємним\")\n",
    "        self.__balance = amount\n",
    "\n",
    "    @property\n",
    "    def account_number(self):\n",
    "        return self.__account_number\n",
    "\n",
    "    def deposit(self, amount):\n",
    "        if amount <= 0:\n",
    "            raise ValueError(\"Сума поповнення має бути більшою за 0\")\n",
    "        self.balance += amount\n",
    "\n",
    "    def withdraw(self, amount):\n",
    "        if amount <= 0:\n",
    "            raise ValueError(\"Сума зняття має бути більшою за 0\")\n",
    "        if amount > self.balance:\n",
    "            raise ValueError(\"Недостатньо коштів на рахунку\")\n",
    "        self.balance -= amount\n"
   ]
  },
  {
   "cell_type": "markdown",
   "metadata": {
    "id": "q1mgZYuFjB_q"
   },
   "source": [
    "8. (16б). Створіть клас Library, який містить список об'єктів типу Book.\n",
    "Реалізуйте методи для додавання книги, видалення книги та відображення списку книг."
   ]
  },
  {
   "cell_type": "code",
   "execution_count": 11,
   "metadata": {
    "id": "z1W8DINmjQQj"
   },
   "outputs": [],
   "source": [
    "class Book:\n",
    "    def __init__(self, title, author):\n",
    "        self.title = title\n",
    "        self.author = author\n",
    "\n",
    "    def __str__(self):\n",
    "        return f\"'{self.title}' by {self.author}\"\n",
    "\n",
    "\n",
    "class Library:\n",
    "    def __init__(self):\n",
    "        self.books = []\n",
    "\n",
    "    def add_book(self, book):\n",
    "        self.books.append(book)\n",
    "\n",
    "    def remove_book(self, book):\n",
    "        self.books.remove(book)\n",
    "\n",
    "    def display_books(self):\n",
    "        for book in self.books:\n",
    "            print(book)\n"
   ]
  },
  {
   "cell_type": "markdown",
   "metadata": {
    "id": "cCzctafPjwiZ"
   },
   "source": [
    "9. (13б). Створіть клас Person з атрибутами name та age.\n",
    "Створіть ще один клас Employee з такими атрибутами, як department та salary.\n",
    "Створіть клас Manager, який успадковує обидва класи Person та Employee. Продемонструйте використання множинної спадковості, створивши обʼєкт класу Manager та отримавши mro для цього класу."
   ]
  },
  {
   "cell_type": "code",
   "execution_count": 15,
   "metadata": {
    "id": "tZQ8-tfPk1k5"
   },
   "outputs": [
    {
     "name": "stdout",
     "output_type": "stream",
     "text": [
      "Name: John Doe, Age: 45, Department: Sales, Salary: 80000\n",
      "[<class '__main__.Manager'>, <class '__main__.Person'>, <class '__main__.Employee'>, <class 'object'>]\n"
     ]
    }
   ],
   "source": [
    "class Person:\n",
    "    def __init__(self, name, age):\n",
    "        self.name = name\n",
    "        self.age = age\n",
    "\n",
    "class Employee:\n",
    "    def __init__(self, department, salary):\n",
    "        self.department = department\n",
    "        self.salary = salary\n",
    "\n",
    "class Manager(Person, Employee):\n",
    "    def __init__(self, name, age, department, salary):\n",
    "        Person.__init__(self, name, age)\n",
    "        Employee.__init__(self, department, salary)\n",
    "\n",
    "manager = Manager('John Doe', 45, 'Sales', 80000)\n",
    "\n",
    "print(f\"Name: {manager.name}, Age: {manager.age}, Department: {manager.department}, Salary: {manager.salary}\")\n",
    "\n",
    "print(Manager.mro())\n"
   ]
  },
  {
   "cell_type": "markdown",
   "metadata": {
    "id": "dzH9DdFTOxCC"
   },
   "source": [
    "# Вітаю! Ви велика(ий) молодець, що впоралась(вся). Похваліть себе та побалуйте чимось приємним. Я Вами пишаюся."
   ]
  },
  {
   "cell_type": "code",
   "execution_count": null,
   "metadata": {},
   "outputs": [],
   "source": []
  }
 ],
 "metadata": {
  "colab": {
   "provenance": []
  },
  "kernelspec": {
   "display_name": "Python 3 (ipykernel)",
   "language": "python",
   "name": "python3"
  },
  "language_info": {
   "codemirror_mode": {
    "name": "ipython",
    "version": 3
   },
   "file_extension": ".py",
   "mimetype": "text/x-python",
   "name": "python",
   "nbconvert_exporter": "python",
   "pygments_lexer": "ipython3",
   "version": "3.12.1"
  }
 },
 "nbformat": 4,
 "nbformat_minor": 4
}
