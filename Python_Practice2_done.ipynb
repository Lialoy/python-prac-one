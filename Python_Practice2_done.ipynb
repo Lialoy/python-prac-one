{
 "cells": [
  {
   "cell_type": "markdown",
   "metadata": {
    "id": "EVJ7AflwxrZi"
   },
   "source": [
    "# I. Рядки (String)."
   ]
  },
  {
   "cell_type": "markdown",
   "metadata": {
    "id": "_s5ECzz9zE61"
   },
   "source": [
    "1. Створити пустий рядок двома різними способами."
   ]
  },
  {
   "cell_type": "code",
   "execution_count": 1,
   "metadata": {
    "id": "HsDOUUMWxo6D"
   },
   "outputs": [],
   "source": [
    "string1 = \"\"\n",
    "string2 = ''\n",
    "string3 = str()"
   ]
  },
  {
   "cell_type": "markdown",
   "metadata": {
    "id": "4Bdn9J3MzLf_"
   },
   "source": [
    "2. Створити рядок з апострофом."
   ]
  },
  {
   "cell_type": "code",
   "execution_count": 6,
   "metadata": {
    "id": "OjyFU0iKzPc2"
   },
   "outputs": [
    {
     "name": "stdout",
     "output_type": "stream",
     "text": [
      "'\n",
      "'\n"
     ]
    }
   ],
   "source": [
    "apostrophe_str = \"'\"\n",
    "apostrophe_str2 = '\\''\n",
    "print(apostrophe_str)\n",
    "print(apostrophe_str2)"
   ]
  },
  {
   "cell_type": "markdown",
   "metadata": {
    "id": "qj7LjXFazbx1"
   },
   "source": [
    "3. Створити рядок з символом переходу на новий рядок та роздрукувати його в консоль."
   ]
  },
  {
   "cell_type": "code",
   "execution_count": 5,
   "metadata": {
    "id": "K9J-tLXczmyo"
   },
   "outputs": [
    {
     "name": "stdout",
     "output_type": "stream",
     "text": [
      "Hello\n",
      "there!\n"
     ]
    }
   ],
   "source": [
    "space_str = \"Hello\\nthere!\"\n",
    "print(space_str)"
   ]
  },
  {
   "cell_type": "markdown",
   "metadata": {
    "id": "XEYGh-BGzzfD"
   },
   "source": [
    "4. Зробити рядок з завдання №3 \"сирим\"(raw), вивести в консоль та порівняти з результатом в попередному завданні."
   ]
  },
  {
   "cell_type": "code",
   "execution_count": 7,
   "metadata": {
    "id": "0Mb7qYqgzntd"
   },
   "outputs": [
    {
     "name": "stdout",
     "output_type": "stream",
     "text": [
      "Hello\\nthere!\n"
     ]
    }
   ],
   "source": [
    "raw_space_str = r\"Hello\\nthere!\"\n",
    "print(raw_space_str)"
   ]
  },
  {
   "cell_type": "markdown",
   "metadata": {
    "id": "xLM76Cnfz3T_"
   },
   "source": [
    "*Сирі рядки не оброблять спец символи*"
   ]
  },
  {
   "cell_type": "markdown",
   "metadata": {
    "id": "bg_d8wM4z8dS"
   },
   "source": [
    "5. Створити змінну, що буде посилатися на Ваше прізвище латинкою. Створити форматований рядок, який буде мати вигляд \"My surname is ______\", де на місці нижніх підкреслень буде Ваше прізвище зі змінної."
   ]
  },
  {
   "cell_type": "code",
   "execution_count": 8,
   "metadata": {
    "id": "Cr847KKpz7zF"
   },
   "outputs": [
    {
     "name": "stdout",
     "output_type": "stream",
     "text": [
      "My surname is Kuzyk\n"
     ]
    }
   ],
   "source": [
    "my_surname = \"Kuzyk\"\n",
    "\n",
    "print(f\"My surname is {my_surname}\")"
   ]
  },
  {
   "cell_type": "markdown",
   "metadata": {
    "id": "1Nc6RqvQ0hxU"
   },
   "source": [
    "6. Маючи рядок \"My dog is crazy.\" перетворити його на список [\"my\", \"dog\", \"is\", \"crazy\"]"
   ]
  },
  {
   "cell_type": "code",
   "execution_count": 9,
   "metadata": {
    "id": "dGU4MImR063l"
   },
   "outputs": [
    {
     "name": "stdout",
     "output_type": "stream",
     "text": [
      "['My', 'dog', 'is', 'crazy.']\n"
     ]
    }
   ],
   "source": [
    "string = \"My dog is crazy.\"\n",
    "\n",
    "list = string.split()\n",
    "\n",
    "print(list)"
   ]
  },
  {
   "cell_type": "markdown",
   "metadata": {
    "id": "rW_I9dt3x6cW"
   },
   "source": [
    "# II. Множини (Set)."
   ]
  },
  {
   "cell_type": "markdown",
   "metadata": {
    "id": "zNjRLHLw1Bgg"
   },
   "source": [
    "7. Створити множину без елементів. Після цого за допомогою методу додайте кілька різних елементів до множини. Чи множини є змінним типом даних?"
   ]
  },
  {
   "cell_type": "code",
   "execution_count": 14,
   "metadata": {
    "id": "CB72VZWZ1A7c"
   },
   "outputs": [
    {
     "name": "stdout",
     "output_type": "stream",
     "text": [
      "{'Смерть ворогам', 'Слава Україні', 'Слава Нації', 'Героям Слава'}\n"
     ]
    }
   ],
   "source": [
    "new_set = set()\n",
    "\n",
    "new_set.add(\"Слава Україні\")\n",
    "new_set.update([\"Героям Слава\",\"Слава Нації\",\"Смерть ворогам\"])\n",
    "\n",
    "print(new_set)"
   ]
  },
  {
   "cell_type": "markdown",
   "metadata": {
    "id": "tqxtcfgK4Wkx"
   },
   "source": [
    "Множини є змінним типом даних в Python"
   ]
  },
  {
   "cell_type": "markdown",
   "metadata": {
    "id": "gHpT0Zw_1HEF"
   },
   "source": [
    "8. Створити множину, маючи список my_list = [1, 1, 2, 67, 67, 8, 9]. Пояснити, чому \"зникли\" деякі елементи."
   ]
  },
  {
   "cell_type": "code",
   "execution_count": 15,
   "metadata": {
    "id": "U5YnFsPp1OCU"
   },
   "outputs": [
    {
     "name": "stdout",
     "output_type": "stream",
     "text": [
      "{1, 2, 67, 8, 9}\n"
     ]
    }
   ],
   "source": [
    "my_list = [1, 1, 2, 67, 67, 8, 9]\n",
    "\n",
    "my_set = set(my_list)\n",
    "\n",
    "print(my_set)\n",
    "\n",
    "# Множини в Python є невпорядкованими колекціями унікальних елементів, тобто вони не містять повторень"
   ]
  },
  {
   "cell_type": "markdown",
   "metadata": {
    "id": "SRMkGizS1UwY"
   },
   "source": [
    "9. Створіть дві множини. Продемонстуйте над ними операції: обʼєднання, різниці, пересічі та симетричної різниці. Використовуйте методи, що не змінюють множини, а створюють нові."
   ]
  },
  {
   "cell_type": "code",
   "execution_count": 19,
   "metadata": {
    "id": "pj5ta1CS2LAa"
   },
   "outputs": [
    {
     "name": "stdout",
     "output_type": "stream",
     "text": [
      "{1, 2, 3, 4, 5, 6, 7}\n",
      "{1, 2}\n",
      "{3, 4, 5}\n",
      "{1, 2, 6, 7}\n"
     ]
    }
   ],
   "source": [
    "set1 = {1, 2, 3, 4, 5}\n",
    "set2 = {3, 4, 5, 6, 7}\n",
    "\n",
    "# Обʼєднання множин\n",
    "set3 = set1.union(set2)\n",
    "print(set3)\n",
    "\n",
    "# Різниця множин\n",
    "set4 = set1.difference(set2)\n",
    "print(set4)\n",
    "\n",
    "# Пересічі множин\n",
    "set5 = set1.intersection(set2)\n",
    "print(set5)\n",
    "\n",
    "# Симетрична різниця множин\n",
    "set6 = set1.symmetric_difference(set2)\n",
    "print(set6)\n"
   ]
  },
  {
   "cell_type": "markdown",
   "metadata": {
    "id": "ECo4rGAW2e4S"
   },
   "source": [
    "10. Створіть множину з пʼяти елементів. За допомогою спеціального методу, вилучіть три елементи один за одним з множини. Чи може гарантуватися порядок елементів у множинах?"
   ]
  },
  {
   "cell_type": "code",
   "execution_count": 20,
   "metadata": {
    "id": "tCoJigA-4Ryd"
   },
   "outputs": [
    {
     "name": "stdout",
     "output_type": "stream",
     "text": [
      "1\n",
      "2\n",
      "3\n"
     ]
    }
   ],
   "source": [
    "my_set = {1, 2, 3, 4, 5}\n",
    "\n",
    "# Вилучення трьох елементів з множини\n",
    "element1 = my_set.pop()\n",
    "element2 = my_set.pop()\n",
    "element3 = my_set.pop()\n",
    "\n",
    "# Виведення вилучених елементів в консоль\n",
    "print(element1)\n",
    "print(element2)\n",
    "print(element3)\n"
   ]
  },
  {
   "cell_type": "markdown",
   "metadata": {
    "id": "t7f5oKmP2qum"
   },
   "source": [
    "Порядок елементів у множинах не може гарантуватися"
   ]
  },
  {
   "cell_type": "markdown",
   "metadata": {
    "id": "kWc8gkzTx7Ea"
   },
   "source": [
    "# III. Словники (Dictionary)."
   ]
  },
  {
   "cell_type": "markdown",
   "metadata": {
    "id": "FHIRdwck2uji"
   },
   "source": [
    "11. Створіть пустий словник двома способами."
   ]
  },
  {
   "cell_type": "code",
   "execution_count": 21,
   "metadata": {
    "id": "sF2WCzwJ2yDq"
   },
   "outputs": [
    {
     "name": "stdout",
     "output_type": "stream",
     "text": [
      "<class 'dict'>\n",
      "<class 'dict'>\n"
     ]
    }
   ],
   "source": [
    "empty_dict = {}\n",
    "empty_dict2 = dict()\n",
    "\n",
    "print(type(empty_dict))\n",
    "print(type(empty_dict2))"
   ]
  },
  {
   "cell_type": "markdown",
   "metadata": {
    "id": "i5FLwj-B2ybQ"
   },
   "source": [
    "12. До одного зі словників вище додайте чотири пари елементів такі, щоб їхні ключі були різних типів."
   ]
  },
  {
   "cell_type": "code",
   "execution_count": 32,
   "metadata": {
    "id": "lqunD0EZ2_Vg"
   },
   "outputs": [
    {
     "name": "stdout",
     "output_type": "stream",
     "text": [
      "{'two': 'Apple', 3.0: 'Computer', (0, 1): 'jump', 1: 'Monkey'}\n"
     ]
    }
   ],
   "source": [
    "empty_dict[1] = \"Monkey\"\n",
    "empty_dict[\"two\"] = \"Apple\"\n",
    "empty_dict[3.0] = \"Computer\"\n",
    "empty_dict[(0, 1)] = \"jump\"\n",
    "\n",
    "print(empty_dict)"
   ]
  },
  {
   "cell_type": "markdown",
   "metadata": {
    "id": "XOD2Aaj13Bqx"
   },
   "source": [
    "*чи може список бути ключем? а значенням? чому?\n",
    "Список не може бути ключем в словнику в Python, але може бути значенням. Це тому, що ключі словника мають бути незмінними типами даних, тобто вони не можуть змінюватися після створення"
   ]
  },
  {
   "cell_type": "markdown",
   "metadata": {
    "id": "9Tjhmuf73KE6"
   },
   "source": [
    "13. Використовуючи той самий словник, отримайте по ключу будь-яке значення з наявних. Тепер видаліть цю пару ключ-значення. Спробуйте знову отримати значення по цьому ж ключу. Використовуючи спеціальний метод, виправте помилку."
   ]
  },
  {
   "cell_type": "code",
   "execution_count": 33,
   "metadata": {
    "id": "cNMenuGQ3JMa"
   },
   "outputs": [
    {
     "name": "stdout",
     "output_type": "stream",
     "text": [
      "Monkey\n",
      "None\n"
     ]
    }
   ],
   "source": [
    "print(empty_dict[1])\n",
    "\n",
    "empty_dict.pop(1)\n",
    "\n",
    "print(empty_dict.get(1))"
   ]
  },
  {
   "cell_type": "markdown",
   "metadata": {
    "id": "SLtQabwUx7Xc"
   },
   "source": [
    "# IV. Оператори порівняння та логічні оператори. Умови."
   ]
  },
  {
   "cell_type": "markdown",
   "metadata": {
    "id": "SrehzC-n3-ln"
   },
   "source": [
    "14. Створіть цілочисленну змінну зі своїм щасливим або улюбленим числом. Напишіть код, який би автоматизовував наступну задачу.\n",
    "\n",
    "Якщо число парне, помножте його на 2 та виведіть результат на екран.\n",
    "\n",
    "Але якщо число непарне, помножте його на 3 та додайте 1 і виведіть на екран.\n"
   ]
  },
  {
   "cell_type": "code",
   "execution_count": 35,
   "metadata": {
    "id": "g0cchKGl3-Gq"
   },
   "outputs": [
    {
     "name": "stdout",
     "output_type": "stream",
     "text": [
      "12\n"
     ]
    }
   ],
   "source": [
    "my_number = 6\n",
    "\n",
    "if my_number % 2 == 0:\n",
    "    result = my_number * 2\n",
    "    print(result)\n",
    "else: \n",
    "    result = my_number * 3 + 1\n",
    "    print(result)\n"
   ]
  },
  {
   "cell_type": "markdown",
   "metadata": {
    "id": "PRXLVdU26E5Z"
   },
   "source": [
    "15. Створіть рядок зі своїм імʼям латинкою. Напишіть код, який би автоматизовував наступну задачу.\n",
    "\n",
    "Якщо в імені є літера \"а\"\n",
    " або \"i\", Виведіть на екран повідомлення \"A or I is in the name\".\n",
    "\n",
    "\n",
    "\n",
    "Якщо в імені є літери \"o\" та \"n\", Виведіть на екран повідомлення \"O and N is in the name\".\n",
    "\n",
    "Також якщо в імені немає літери \"о\", але є \"n\", Виведіть на екран повідомлення \"Only N is in the name\".\n",
    "\n",
    "В решті випадків виведіть на екран повідомлення \"There is no N in the name, but there might be O\".\n",
    "\n",
    "Зверніть увагу, що, наприклад, для імені \"Antonina\" буде виведено два повідомлення."
   ]
  },
  {
   "cell_type": "code",
   "execution_count": 45,
   "metadata": {
    "id": "bQlf4ZUh6Pdz"
   },
   "outputs": [
    {
     "name": "stdout",
     "output_type": "stream",
     "text": [
      "There is no N in the name, but there might be O\n"
     ]
    }
   ],
   "source": [
    "# Створення рядка зі своїм імʼям латинкою\n",
    "my_name = \"Artem\"\n",
    "\n",
    "# Перевірка, чи є в імені літера \"а\" або \"i\"\n",
    "if \"a\" in my_name or \"i\" in my_name:\n",
    "    # Виведення на екран повідомлення \"A or I is in the name\"\n",
    "    print(\"A or I is in the name\")\n",
    "\n",
    "# Перевірка, чи є в імені літери \"o\" та \"n\"\n",
    "if \"o\" in my_name and \"n\" in my_name:\n",
    "    # Виведення на екран повідомлення \"O and N is in the name\"\n",
    "    print(\"O and N is in the name\")\n",
    "\n",
    "# Перевірка, чи немає в імені літери \"о\", але є \"n\"\n",
    "elif \"o\" not in my_name and \"n\" in my_name:\n",
    "    # Виведення на екран повідомлення \"Only N is in the name\"\n",
    "    print(\"Only N is in the name\")\n",
    "\n",
    "# В решті випадків\n",
    "else:\n",
    "    # Виведення на екран повідомлення \"There is no N in the name, but there might be O\"\n",
    "    print(\"There is no N in the name, but there might be O\")\n"
   ]
  },
  {
   "cell_type": "markdown",
   "metadata": {
    "id": "xOZP0hkx6cCr"
   },
   "source": [
    "# Вітаю! Ви велика(ий) молодець, що впоралась(вся). Похваліть себе та побалуйте чимось приємним. Я Вами пишаюся."
   ]
  }
 ],
 "metadata": {
  "colab": {
   "provenance": []
  },
  "kernelspec": {
   "display_name": "Python 3 (ipykernel)",
   "language": "python",
   "name": "python3"
  },
  "language_info": {
   "codemirror_mode": {
    "name": "ipython",
    "version": 3
   },
   "file_extension": ".py",
   "mimetype": "text/x-python",
   "name": "python",
   "nbconvert_exporter": "python",
   "pygments_lexer": "ipython3",
   "version": "3.12.1"
  }
 },
 "nbformat": 4,
 "nbformat_minor": 4
}
