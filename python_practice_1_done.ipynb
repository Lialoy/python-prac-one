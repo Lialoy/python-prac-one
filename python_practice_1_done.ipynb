{
 "cells": [
  {
   "cell_type": "markdown",
   "metadata": {
    "id": "p9wwt0LZzNvn"
   },
   "source": [
    "# I. Змінні та памʼять."
   ]
  },
  {
   "cell_type": "markdown",
   "metadata": {
    "id": "HTJrrm95xSV9"
   },
   "source": [
    "1. Створити змінні, що посилаються на два цілих числа, що однакові за значенням, де значення належить проміжку від -5 до 256. Чи будуть ці змінні рівні тільки за значенням або ж ще будуть посилатися на один і той самий обʼєкт в памʼяті? Наведіть код та дайте текстову відповідь нижче."
   ]
  },
  {
   "cell_type": "code",
   "execution_count": 4,
   "metadata": {
    "id": "FHSFpb1bwTFG"
   },
   "outputs": [
    {
     "name": "stdout",
     "output_type": "stream",
     "text": [
      "True\n",
      "True\n",
      "140717085181464\n",
      "140717085181464\n"
     ]
    }
   ],
   "source": [
    "#декларуємо змінні\n",
    "a = 100\n",
    "b = 100\n",
    "\n",
    "print(a == b) # перевіряємо чи рівні значення змінних\n",
    "print(a is b) # перевіряємо чи посилаються ці змінні на один і той самий об'єкт\n",
    "\n",
    "# перевіряємо ід об'єктів у пам'яті, як побачимо далі, вони однакові\n",
    "print(id(a)) \n",
    "print(id(b)) \n",
    "\n",
    "# Як бачимо, в Python числові змінні з однаковим значенням від -5 до 256, задля економії пам'яті посилаються на один об'єкт"
   ]
  },
  {
   "cell_type": "markdown",
   "metadata": {
    "id": "N-soIzlV0Awv"
   },
   "source": [
    "2. Створити змінні, що посилаються на одне і те саме булеве значення. Чи будуть ці змінні рівні тільки за значенням або ж ще будуть посилатися на один і той самий обʼєкт в памʼяті? Наведіть код та дайте текстову відповідь нижче."
   ]
  },
  {
   "cell_type": "code",
   "execution_count": 6,
   "metadata": {
    "id": "qK1-VBih0Lgz"
   },
   "outputs": [
    {
     "name": "stdout",
     "output_type": "stream",
     "text": [
      "True\n",
      "True\n",
      "140717084384048\n",
      "140717084384048\n"
     ]
    }
   ],
   "source": [
    "c = True\n",
    "d = True\n",
    "\n",
    "print(c == d)\n",
    "print(c is d)\n",
    "\n",
    "print(id(c)) \n",
    "print(id(d)) \n",
    "\n",
    "# Перевіривши припущення за раніше використаною методикою, приходимо до висновку, що булеві значення посилаються на одні і ті ж об'єкти у пам'яті"
   ]
  },
  {
   "cell_type": "markdown",
   "metadata": {
    "id": "nD2SJcgaya4d"
   },
   "source": [
    "*місце для текстової відповіді або коментарів *текст курсивом*"
   ]
  },
  {
   "cell_type": "markdown",
   "metadata": {
    "id": "ISORzt6M3vAt"
   },
   "source": [
    "3. За допомогою якої функції можна перевірити належність змінної до вказаного типу даних (напр. чи змінна посилається на значення булевого типу)?"
   ]
  },
  {
   "cell_type": "code",
   "execution_count": 8,
   "metadata": {
    "id": "N7HHGm4H4CW7"
   },
   "outputs": [
    {
     "name": "stdout",
     "output_type": "stream",
     "text": [
      "<class 'int'>\n"
     ]
    }
   ],
   "source": [
    "print(type(a))\n",
    "\n",
    "# Попередній рядок коду говорить сам за себе)"
   ]
  },
  {
   "cell_type": "markdown",
   "metadata": {
    "id": "tRxugKAxwYLw"
   },
   "source": [
    "# II. Цілі числа та числа з рухомою комою"
   ]
  },
  {
   "cell_type": "markdown",
   "metadata": {
    "id": "NLHkgd5Gybc8"
   },
   "source": [
    "4. Створити дві змінні, що посилаються на будь-які два цілих числа та продемонструвати такі арифметичні операції: додавання, віднімання, ділення, множення, ділення без залишку, ділення по модулю, приведення до ступеню. Всі результати операцій вивести на екран."
   ]
  },
  {
   "cell_type": "code",
   "execution_count": 9,
   "metadata": {
    "id": "Ck6JaN4Qysoc"
   },
   "outputs": [
    {
     "name": "stdout",
     "output_type": "stream",
     "text": [
      "15 + 4 = 19\n",
      "15 - 4 = 11\n",
      "15 / 4 = 3.75\n",
      "15 * 4 = 60\n",
      "15 // 4 = 3\n",
      "15 % 4 = 3\n",
      "15 ** 4 = 50625\n"
     ]
    }
   ],
   "source": [
    "# Створюємо дві змінні, що посилаються на будь-які два цілих числа\n",
    "x = 15\n",
    "y = 4\n",
    "\n",
    "# Додавання\n",
    "sum = x + y\n",
    "print(f\"{x} + {y} = {sum}\") # 15 + 4 = 19\n",
    "\n",
    "# Віднімання\n",
    "diff = x - y\n",
    "print(f\"{x} - {y} = {diff}\") # 15 - 4 = 11\n",
    "\n",
    "# Ділення\n",
    "quot = x / y\n",
    "print(f\"{x} / {y} = {quot}\") # 15 / 4 = 3.75\n",
    "\n",
    "# Множення\n",
    "prod = x * y\n",
    "print(f\"{x} * {y} = {prod}\") # 15 * 4 = 60\n",
    "\n",
    "# Ділення без залишку\n",
    "div = x // y\n",
    "print(f\"{x} // {y} = {div}\") # 15 // 4 = 3\n",
    "\n",
    "# Ділення по модулю\n",
    "mod = x % y\n",
    "print(f\"{x} % {y} = {mod}\") # 15 % 4 = 3\n",
    "\n",
    "# Приведення до ступеню\n",
    "pow = x ** y\n",
    "print(f\"{x} ** {y} = {pow}\") # 15 ** 4 = 50625\n"
   ]
  },
  {
   "cell_type": "markdown",
   "metadata": {
    "id": "tOT1crlty3cE"
   },
   "source": [
    "5. Створити дві змінні, що посилаються на будь-які два числа з рухомою комою та продемонструвати такі арифметичні операції: додавання, віднімання, ділення, множення, ділення без залишку, ділення по модулю, приведення до ступеню. Всі результати операцій вивести на екран."
   ]
  },
  {
   "cell_type": "code",
   "execution_count": 15,
   "metadata": {
    "id": "m88_XOI9y-HI"
   },
   "outputs": [
    {
     "name": "stdout",
     "output_type": "stream",
     "text": [
      "3.14 + 2.71 = 5.85\n",
      "3.14 - 2.71 = 0.43000000000000016\n",
      "3.14 / 2.71 = 1.1586715867158672\n",
      "3.14 * 2.71 = 8.5094\n",
      "3.14 // 2.71 = 1.0\n",
      "3.14 % 2.71 = 0.43000000000000016\n",
      "3.14 ** 2.71 = 22.21668954600232\n"
     ]
    }
   ],
   "source": [
    "# Створюємо дві змінні, що посилаються на будь-які два числа з рухомою комою\n",
    "x = 3.14\n",
    "y = 2.71\n",
    "\n",
    "# Додавання\n",
    "sum = x + y\n",
    "print(f\"{x} + {y} = {sum}\") # 3.14 + 2.71 = 5.85\n",
    "\n",
    "# Віднімання\n",
    "diff = x - y\n",
    "print(f\"{x} - {y} = {diff}\") # 3.14 - 2.71 = 0.43\n",
    "\n",
    "# Ділення\n",
    "quot = x / y\n",
    "print(f\"{x} / {y} = {quot}\") # 3.14 / 2.71 = 1.1586715867158672\n",
    "\n",
    "# Множення\n",
    "prod = x * y\n",
    "print(f\"{x} * {y} = {prod}\") # 3.14 * 2.71 = 8.5094\n",
    "\n",
    "# Ділення без залишку\n",
    "div = x // y\n",
    "print(f\"{x} // {y} = {div}\") # 3.14 // 2.71 = 1.0\n",
    "\n",
    "# Ділення по модулю\n",
    "mod = x % y\n",
    "print(f\"{x} % {y} = {mod}\") # 3.14 % 2.71 = 0.43\n",
    "\n",
    "# Приведення до ступеню\n",
    "pow = x ** y\n",
    "print(f\"{x} ** {y} = {pow}\") # 3.14 ** 2.71 = 25.62690122318099\n"
   ]
  },
  {
   "cell_type": "markdown",
   "metadata": {
    "id": "74jIsang0Yfe"
   },
   "source": [
    "6. Спробуйте проробити всі ті самі арифметичні операції над двома змінними, що посилаються на різні булеві значення. Прокоментуйте, чому, на Вашу думку, Ви отримали саме такі результати."
   ]
  },
  {
   "cell_type": "code",
   "execution_count": 13,
   "metadata": {
    "id": "Py3JN4gU0eTq"
   },
   "outputs": [
    {
     "name": "stdout",
     "output_type": "stream",
     "text": [
      "True + False = 1\n",
      "True - False = 1\n",
      "True * False = 0\n",
      "True ** False = 1\n"
     ]
    }
   ],
   "source": [
    "# Створюємо дві змінні, що посилаються на різні булеві значення\n",
    "x = True\n",
    "y = False\n",
    "\n",
    "# Додавання\n",
    "sum = x + y\n",
    "print(f\"{x} + {y} = {sum}\") # True + False = 1\n",
    "\n",
    "# Віднімання\n",
    "diff = x - y\n",
    "print(f\"{x} - {y} = {diff}\") # True - False = 1\n",
    "\n",
    "# Ділення\n",
    "# quot = x / y\n",
    "# print(f\"{x} / {y} = {quot}\")  True / False = ZeroDivisionError: division by zero\n",
    "\n",
    "# Множення\n",
    "prod = x * y\n",
    "print(f\"{x} * {y} = {prod}\") # True * False = 0\n",
    "\n",
    "# Ділення без залишку\n",
    "# div = x // y\n",
    "# print(f\"{x} // {y} = {div}\")  True // False = ZeroDivisionError: division by zero\n",
    "\n",
    "# Ділення по модулю\n",
    "# mod = x % y\n",
    "# print(f\"{x} % {y} = {mod}\")  True % False = ZeroDivisionError: division by zero\n",
    "\n",
    "# Приведення до ступеню\n",
    "pow = x ** y\n",
    "print(f\"{x} ** {y} = {pow}\") # True ** False = 1"
   ]
  },
  {
   "cell_type": "markdown",
   "metadata": {
    "id": "-pY4SCvo0wMG"
   },
   "source": [
    "*З отриманих результатів можна зробити висновок, що в Python булеве значення True відповідає одиниці (1), а False нулю (0), що дає можливість проводити над ними арифметичні операції*"
   ]
  },
  {
   "cell_type": "markdown",
   "metadata": {
    "id": "1kBClKgPzZnC"
   },
   "source": [
    "7. Використовуючи змінні з вправи 3, продемонструйте механізм явного перетворення типів, де числа з рухомою комою перетворюються на цілі числа."
   ]
  },
  {
   "cell_type": "code",
   "execution_count": 19,
   "metadata": {
    "id": "akcVeUWYzlpb"
   },
   "outputs": [
    {
     "name": "stdout",
     "output_type": "stream",
     "text": [
      "3\n",
      "3.14\n"
     ]
    }
   ],
   "source": [
    "# Трохи не зрозумів умову, бо вправа 3 це \"За допомогою якої функції можна перевірити належність змінної до вказаного типу даних?\"\n",
    "# тому використаю змінні з вправи 5, а семе x = 3.14, y = 2.71. Для цього я просто перезапустив відповідну комірку\n",
    "\n",
    "print(int(x))\n",
    "print(x)\n",
    "\n",
    "# як результат, можна побачити, що за допомогою вбудованої функції int() можна відкинути дробову частину числа та залишити тільки ціле значення"
   ]
  },
  {
   "cell_type": "markdown",
   "metadata": {
    "id": "GYVqN9uP1D4n"
   },
   "source": [
    "# III. Робота зі списками."
   ]
  },
  {
   "cell_type": "markdown",
   "metadata": {
    "id": "7-DeDunw2sO-"
   },
   "source": [
    "8. Створити список двома різними за синтаксисом способами. За допомогою вбудованої функції обчисліть довжину одного з них."
   ]
  },
  {
   "cell_type": "code",
   "execution_count": 21,
   "metadata": {
    "id": "jY07arjK21hH"
   },
   "outputs": [
    {
     "name": "stdout",
     "output_type": "stream",
     "text": [
      "[1, 2, 3, 'a', 'b', 'c']\n",
      "[4, 5, 6, 'd', 'e', 'f']\n",
      "Довжина списку 1: 6\n"
     ]
    }
   ],
   "source": [
    "# Створюємо список використовуючи квадратні дужки\n",
    "my_list = [1, 2, 3, \"a\", \"b\", \"c\"]\n",
    "print(my_list) # [1, 2, 3, 'a', 'b', 'c']\n",
    "\n",
    "# Створюємо список використовуючи функцію list()\n",
    "my_list2 = list((4, 5, 6, \"d\", \"e\", \"f\"))\n",
    "print(my_list2) # [4, 5, 6, 'd', 'e', 'f']\n",
    "\n",
    "# Обчислюємо та виводимо на екран довжину одного зі списків\n",
    "length = len(my_list)\n",
    "print(f\"Довжина списку 1: {length}\")\n"
   ]
  },
  {
   "cell_type": "markdown",
   "metadata": {
    "id": "8vmGUTjL22gI"
   },
   "source": [
    "9. Створіть два списка та за допомогою спеціального методу додайте другий з них в якості останнього елемента першого."
   ]
  },
  {
   "cell_type": "code",
   "execution_count": 22,
   "metadata": {
    "id": "DSP6lO_m4cdV"
   },
   "outputs": [
    {
     "name": "stdout",
     "output_type": "stream",
     "text": [
      "[1, 2, 3, ['a', 'b', 'c']]\n"
     ]
    }
   ],
   "source": [
    "# Створюємо два списка\n",
    "list1 = [1, 2, 3]\n",
    "list2 = [\"a\", \"b\", \"c\"]\n",
    "\n",
    "# Використовуємо метод append(), щоб додати другий список в якості останнього елемента першого списку\n",
    "list1.append(list2)\n",
    "\n",
    "print(list1)\n"
   ]
  },
  {
   "cell_type": "markdown",
   "metadata": {
    "id": "6ke6ng2j4dtq"
   },
   "source": [
    "10. Створіть два списка та за допомогою спеціального методу \"розширте\" перший (додайте всі елементи другого в кінець першого списку). Напишіть, чим відрізняються методи в завданні 9 та 10."
   ]
  },
  {
   "cell_type": "code",
   "execution_count": null,
   "metadata": {
    "id": "DVJVvu494q8d"
   },
   "outputs": [],
   "source": [
    "# Створюємо два списка\n",
    "list3 = [1, 2, 3]\n",
    "list4 = [\"a\", \"b\", \"c\"]\n",
    "\n",
    "# Використовуємо метод extend(), щоб додати всі елементи другого списку в кінець першого\n",
    "list1.extend(list2)\n",
    "\n",
    "print(list1) \n"
   ]
  },
  {
   "cell_type": "markdown",
   "metadata": {
    "id": "LvEs8TGo6CaT"
   },
   "source": [
    "*Метод append() додає до кінця списку переданий як параметр об'єкт, а метод extend() в свою чергу приймає як параметр iterable object (перепрошую, не знав як українською написати) і проходиться по його вмісту циклом, що передає кожен елемент у список на якому застосований метод*"
   ]
  },
  {
   "cell_type": "markdown",
   "metadata": {
    "id": "iu_NyJeR4vOu"
   },
   "source": [
    "11. Створіть список та відсортуйте його так, щоб:\n",
    "а) його id залишився незмінним після сортування.\n",
    "б) результат сортування був збережений у нову змінну. Підказка: для одного пункту використовуйте вбудовану функцію стортування, а в іншому - спеціальний метод для роботи зі списками."
   ]
  },
  {
   "cell_type": "code",
   "execution_count": 23,
   "metadata": {
    "id": "LWdiIkDj5Nxo"
   },
   "outputs": [
    {
     "name": "stdout",
     "output_type": "stream",
     "text": [
      "2430559512256\n",
      "2430559512256\n",
      "[1, 2, 3, 4, 5]\n"
     ]
    }
   ],
   "source": [
    "# a\n",
    "# Створюємо список та виводимо ід\n",
    "a_list = [5, 2, 4, 1, 3]\n",
    "print(id(a_list))\n",
    "\n",
    "# Використовуємо метод sort(), щоб відсортувати список та знову перевіряємо ід\n",
    "a_list.sort()\n",
    "print(id(a_list))\n",
    "\n",
    "# Виводимо результат\n",
    "print(a_list) # [1, 2, 3, 4, 5]\n"
   ]
  },
  {
   "cell_type": "code",
   "execution_count": 32,
   "metadata": {
    "id": "JHl9vlFa5bHt"
   },
   "outputs": [
    {
     "name": "stdout",
     "output_type": "stream",
     "text": [
      "[1, 2, 3, 4, 5]\n",
      "False\n"
     ]
    }
   ],
   "source": [
    "# b\n",
    "# Створюємо список\n",
    "my_list = [5, 2, 4, 1, 3]\n",
    "\n",
    "# Використовуємо вбудовану функцію sorted(), щоб відсортувати список та зберегти результат у нову змінну\n",
    "sorted_list = sorted(my_list)\n",
    "\n",
    "# Виводимо результат\n",
    "print(sorted_list) # [1, 2, 3, 4, 5]\n",
    "\n",
    "# Перевіряємо, чи id списку залишився незмінним\n",
    "print(id(my_list) == id(sorted_list)) # False\n"
   ]
  },
  {
   "cell_type": "markdown",
   "metadata": {
    "id": "1l80guua5bia"
   },
   "source": [
    "12. Створіть список з елементами різного типу, де деякі значення елементів повторюються. За допомогою спеціального методу порахуйте кількість значень одного з елементів на Ваш вибір. Результат виведіть на екран."
   ]
  },
  {
   "cell_type": "code",
   "execution_count": 31,
   "metadata": {
    "id": "tWFdczmv5z5Q"
   },
   "outputs": [
    {
     "name": "stdout",
     "output_type": "stream",
     "text": [
      "Кількість значень елементу в списку: 2\n"
     ]
    }
   ],
   "source": [
    "# Створюємо список з елементами різного типу\n",
    "my_list = [1, 2, 3, \"a\", \"b\", \"c\", 1, 2, \"a\", True, False, True]\n",
    "\n",
    "# Використовуємо метод count(), щоб порахувати кількість значень елемента\n",
    "count = my_list.count(\"a\")\n",
    "\n",
    "print(f\"Кількість значень елементу в списку: {count}\") # Кількість значень a в списку: 2\n"
   ]
  },
  {
   "cell_type": "markdown",
   "metadata": {
    "id": "pCjR1dJb1Qbi"
   },
   "source": [
    "# IV. Робота з кортежами."
   ]
  },
  {
   "cell_type": "markdown",
   "metadata": {
    "id": "te3MAUYq28TV"
   },
   "source": [
    "13. Створити список з один типом елементів та на основі цього списку створити кортеж."
   ]
  },
  {
   "cell_type": "code",
   "execution_count": 30,
   "metadata": {
    "id": "uq3O114R2_H1"
   },
   "outputs": [
    {
     "name": "stdout",
     "output_type": "stream",
     "text": [
      "(1, 2, 3, 4, 5)\n",
      "<class 'tuple'>\n"
     ]
    }
   ],
   "source": [
    "# Створюємо список з одним типом елементів\n",
    "my_list = [1, 2, 3, 4, 5]\n",
    "\n",
    "# Створюємо кортеж на основі цього списку, використовуючи функцію tuple()\n",
    "my_tuple = tuple(my_list)\n",
    "\n",
    "print(my_tuple) # (1, 2, 3, 4, 5)\n",
    "print(type(my_tuple))\n"
   ]
  },
  {
   "cell_type": "markdown",
   "metadata": {
    "id": "fAZCxAX06R_k"
   },
   "source": [
    "14. Створити кортеж з один елементом."
   ]
  },
  {
   "cell_type": "code",
   "execution_count": 28,
   "metadata": {
    "id": "-QWjudqk6kHd"
   },
   "outputs": [],
   "source": [
    "z = (1,)\n"
   ]
  },
  {
   "cell_type": "markdown",
   "metadata": {
    "id": "VfTSJwQF7djZ"
   },
   "source": [
    "15. Створити кортеж. Вивести на екран всі доступні його атрибути та методи."
   ]
  },
  {
   "cell_type": "code",
   "execution_count": 29,
   "metadata": {
    "id": "x9elcFfr774r"
   },
   "outputs": [
    {
     "name": "stdout",
     "output_type": "stream",
     "text": [
      "['__add__', '__class__', '__class_getitem__', '__contains__', '__delattr__', '__dir__', '__doc__', '__eq__', '__format__', '__ge__', '__getattribute__', '__getitem__', '__getnewargs__', '__getstate__', '__gt__', '__hash__', '__init__', '__init_subclass__', '__iter__', '__le__', '__len__', '__lt__', '__mul__', '__ne__', '__new__', '__reduce__', '__reduce_ex__', '__repr__', '__rmul__', '__setattr__', '__sizeof__', '__str__', '__subclasshook__', 'count', 'index']\n"
     ]
    }
   ],
   "source": [
    "# Не певен, що на увазі малося саме це, але методом dir() можна заглянути всередину класу. \n",
    "print(dir(my_tuple))\n",
    "\n",
    "# Але більшість з цих методів створені для внутрішнього використання. Для роботи з кортежами використовуються тільки методи count() i index()\n",
    "\n"
   ]
  },
  {
   "cell_type": "markdown",
   "metadata": {
    "id": "8LCtYcmI6w1M"
   },
   "source": [
    "16. Порівняйте список та кортеж. Назвіть схожості та відмінності, випадки використання."
   ]
  },
  {
   "cell_type": "markdown",
   "metadata": {
    "id": "t9MwoWor7UVB"
   },
   "source": [
    "*Нехай все буде структуровано*\n",
    "\n",
    "Подібності:\n",
    "- Обидві структури даних є iterable\n",
    "- Вони є індексованими\n",
    "- З них обох можна отримати підколекцію\n",
    "- Вони можуть бути багатовимірними, тобто можна створити список списків і т.п.\n",
    "\n",
    "Відмінності: \n",
    "- Список є змінним типом даних, тобто можна додавати, видаляти, замінювати або змінювати елементи списку після його створення\n",
    "- Список має більше доступних методів, ніж кортеж, тому що він є змінним типом даних. Наприклад, список має методи append(), extend(), insert(), remove(), pop(), sort(), reverse()\n",
    "- Список використовує більше пам’яті, ніж кортеж\n",
    "- Список має меншу \"швидкість виконання\", ніж кортеж\n"
   ]
  },
  {
   "cell_type": "markdown",
   "metadata": {
    "id": "QTP622J81iHk"
   },
   "source": [
    "# V. Індексування та слайсинг."
   ]
  },
  {
   "cell_type": "markdown",
   "metadata": {
    "id": "4dmeIU-N9gHy"
   },
   "source": [
    "17. Створіть список з 6ти елементів. Отримайте третій елемент за допомогою двох різних індексів."
   ]
  },
  {
   "cell_type": "code",
   "execution_count": 33,
   "metadata": {
    "id": "47LTFhfH9pRe"
   },
   "outputs": [
    {
     "name": "stdout",
     "output_type": "stream",
     "text": [
      "3\n",
      "3\n"
     ]
    }
   ],
   "source": [
    "# Створюємо список з 6ти елементів\n",
    "my_list = [1, 2, 3, 4, 5, 6]\n",
    "\n",
    "# Отримуємо третій елемент за допомогою позитивного індексу\n",
    "element1 = my_list[2]\n",
    "print(element1) # 3\n",
    "\n",
    "# Отримуємо третій елемент за допомогою негативного індексу\n",
    "element2 = my_list[-4]\n",
    "print(element2) # 3\n"
   ]
  },
  {
   "cell_type": "markdown",
   "metadata": {
    "id": "JC3BkD-67_--"
   },
   "source": [
    "18. Створіть список, де елементами цього списку також є списки. Отримай перший елемент з останнього рядка та виведи значення на екран."
   ]
  },
  {
   "cell_type": "code",
   "execution_count": 34,
   "metadata": {
    "id": "ctR2jdq68cB0"
   },
   "outputs": [
    {
     "name": "stdout",
     "output_type": "stream",
     "text": [
      "7\n"
     ]
    }
   ],
   "source": [
    "# Створюємо список, де елементами цього списку також є списки\n",
    "my_list = [[1, 2, 3], [4, 5, 6], [7, 8, 9]]\n",
    "\n",
    "# Отримуємо перший елемент з останнього рядка\n",
    "element = my_list[-1][0]\n",
    "\n",
    "print(element) # 7\n"
   ]
  },
  {
   "cell_type": "markdown",
   "metadata": {
    "id": "A-hPrvOS8cjx"
   },
   "source": [
    "19. Створіть кортеж, що містить 8  елементів цілочисленного типу. Виведіть на екран три найменших значення."
   ]
  },
  {
   "cell_type": "code",
   "execution_count": 35,
   "metadata": {
    "id": "GPxJKNUm8xHU"
   },
   "outputs": [
    {
     "name": "stdout",
     "output_type": "stream",
     "text": [
      "[2, 3, 4]\n"
     ]
    }
   ],
   "source": [
    "# Створюємо кортеж, що містить 8 елементів цілочисленного типу\n",
    "my_tuple = (10, 5, 8, 3, 7, 2, 6, 4)\n",
    "\n",
    "# Створюємо відсортований список на основі попереднього\n",
    "sorted_tuple = sorted(my_tuple)\n",
    "\n",
    "# Використовуємо зріз, щоб отримати перші три елементи відсортованого кортежу\n",
    "smallest_three = sorted_tuple[:3]\n",
    "\n",
    "# Виводимо на екран \n",
    "print(smallest_three) \n"
   ]
  },
  {
   "cell_type": "markdown",
   "metadata": {
    "id": "JA47PKTv8zFK"
   },
   "source": [
    "20. Створіть список з десяти елементів різного типу. Отримайте всі елементи, окрім двох перших та двох останніх та збережіть їх в новій змінній."
   ]
  },
  {
   "cell_type": "code",
   "execution_count": 37,
   "metadata": {
    "id": "g-GAQS_kAlmr"
   },
   "outputs": [
    {
     "name": "stdout",
     "output_type": "stream",
     "text": [
      "[3.14, 'a', 'b', 'c', True, False]\n"
     ]
    }
   ],
   "source": [
    "# Створюємо список з десяти елементів різного типу\n",
    "my_list = [1, 2, 3.14, \"a\", \"b\", \"c\", True, False, (4, 5), [6, 7]]\n",
    "\n",
    "# Отримуємо всі елементи, окрім двох перших та двох останніх\n",
    "sub_list = my_list[2:-2]\n",
    "\n",
    "# Виводимо результат\n",
    "print(sub_list)\n"
   ]
  },
  {
   "cell_type": "markdown",
   "metadata": {
    "id": "m0xrwFijAmDD"
   },
   "source": [
    "21. Створіть кортеж з 11ти елементів чисел з рухомою комою та отримайте кожен парний за індексом елемент в зворотньому порядку. Наприклад, маючи (1.2, 2.3, 3.3, 4.3, 5.3, 6.3, 7.3, 8.3, 9.3, 0.3), отримати (0.3, 8.3, 6.3, 4.3, 2.3). Результат збережіть в нову змінну та виведіть на екран."
   ]
  },
  {
   "cell_type": "code",
   "execution_count": 38,
   "metadata": {
    "id": "BQwYLEXdBVBo"
   },
   "outputs": [
    {
     "name": "stdout",
     "output_type": "stream",
     "text": [
      "(1.0, 9.9, 7.7, 5.5, 3.3, 1.1)\n"
     ]
    }
   ],
   "source": [
    "# Створюємо кортеж\n",
    "my_tuple = (1.1, 2.2, 3.3, 4.4, 5.5, 6.6, 7.7, 8.8, 9.9, 0.0, 1.0)\n",
    "\n",
    "# Отримуємо кожен парний за індексом елемент в зворотньому порядку\n",
    "sub_tuple = my_tuple[-1::-2]\n",
    "\n",
    "# Виводимо результат\n",
    "print(sub_tuple) # (1.0, 8.8, 6.6, 4.4, 2.2)\n"
   ]
  },
  {
   "cell_type": "markdown",
   "metadata": {
    "id": "F0ArvieRBZsG"
   },
   "source": [
    "# Вітаю! Ви велика(ий) молодець, що впоралась(вся). Похваліть себе та побалуйте чимось приємним. Я Вами пишаюся."
   ]
  },
  {
   "cell_type": "code",
   "execution_count": null,
   "metadata": {},
   "outputs": [],
   "source": [
    "Дякую Вам! Ви неймовірно крута!"
   ]
  }
 ],
 "metadata": {
  "colab": {
   "provenance": []
  },
  "kernelspec": {
   "display_name": "Python 3 (ipykernel)",
   "language": "python",
   "name": "python3"
  },
  "language_info": {
   "codemirror_mode": {
    "name": "ipython",
    "version": 3
   },
   "file_extension": ".py",
   "mimetype": "text/x-python",
   "name": "python",
   "nbconvert_exporter": "python",
   "pygments_lexer": "ipython3",
   "version": "3.12.1"
  }
 },
 "nbformat": 4,
 "nbformat_minor": 4
}
