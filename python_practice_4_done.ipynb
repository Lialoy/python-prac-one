{
 "cells": [
  {
   "cell_type": "markdown",
   "metadata": {
    "id": "-xM96SkgLNxS"
   },
   "source": [
    "# I. Functions. Arguments."
   ]
  },
  {
   "cell_type": "markdown",
   "metadata": {
    "id": "RFkkDC1jikAI"
   },
   "source": [
    "0. (5б) Назвіть 4 частини, з яких складається визначення функції."
   ]
  },
  {
   "cell_type": "code",
   "execution_count": 2,
   "metadata": {
    "id": "tV4xxWnFisqZ"
   },
   "outputs": [
    {
     "ename": "SyntaxError",
     "evalue": "invalid syntax (610557074.py, line 1)",
     "output_type": "error",
     "traceback": [
      "\u001b[1;36m  Cell \u001b[1;32mIn[2], line 1\u001b[1;36m\u001b[0m\n\u001b[1;33m    *Ключове слово, в нашому випадку \"def\", імя функції, список параметрів та тіло функції*\u001b[0m\n\u001b[1;37m             ^\u001b[0m\n\u001b[1;31mSyntaxError\u001b[0m\u001b[1;31m:\u001b[0m invalid syntax\n"
     ]
    }
   ],
   "source": [
    "*Ключове слово, в нашому випадку \"def\", імя функції, список параметрів та тіло функції*"
   ]
  },
  {
   "cell_type": "markdown",
   "metadata": {
    "id": "mg6qjOB2LbVs"
   },
   "source": [
    "1. (4б) Визначте функцію, що приймає 2 аргументи та повертає результат ділення 1го аргумента на інший."
   ]
  },
  {
   "cell_type": "code",
   "execution_count": 4,
   "metadata": {
    "id": "lUbA_FWjKxQD"
   },
   "outputs": [],
   "source": [
    "def divide(a, b):\n",
    "    if not isinstance(a, (int, float)) or not isinstance(b, (int, float)):\n",
    "        print(\"Обидва аргументи мають бути числами\")\n",
    "        return None\n",
    "    if b == 0:\n",
    "        print(\"Ділення на нуль неможливе\")\n",
    "        return None\n",
    "    return a / b\n"
   ]
  },
  {
   "cell_type": "markdown",
   "metadata": {
    "id": "wMAYj2KXLpiJ"
   },
   "source": [
    "2. (2б) Викличте вище визначену функцію, де другий аргумент дорівнює 0."
   ]
  },
  {
   "cell_type": "code",
   "execution_count": 5,
   "metadata": {
    "id": "103jJj32Lo4Y"
   },
   "outputs": [
    {
     "name": "stdout",
     "output_type": "stream",
     "text": [
      "Ділення на нуль неможливе\n"
     ]
    }
   ],
   "source": [
    "divide(1223, 0)"
   ]
  },
  {
   "cell_type": "markdown",
   "metadata": {
    "id": "eT-pwEwPMD3T"
   },
   "source": [
    "3. (6б) Перевизначте функцію так, щоби у випадку ділення на 0 функція повертала None, а в решті випадків - результат розрахунків."
   ]
  },
  {
   "cell_type": "code",
   "execution_count": null,
   "metadata": {
    "id": "1h6Jz7CKMTk_"
   },
   "outputs": [],
   "source": [
    "*передбачено by default*"
   ]
  },
  {
   "cell_type": "markdown",
   "metadata": {
    "id": "iuTiofyDMVMG"
   },
   "source": [
    "4. (5б) Напишіть документацію (docstring) у форматі Google до функції, що має обчислювати суму двох чисел."
   ]
  },
  {
   "cell_type": "code",
   "execution_count": null,
   "metadata": {
    "id": "a9E6iU_iNyYQ"
   },
   "outputs": [],
   "source": [
    "\n",
    "\"\"\"\n",
    "Computes the division of two numbers.\n",
    "\n",
    "Args:\n",
    "    a (int or float): The dividend.\n",
    "    b (int or float): The divisor.\n",
    "\n",
    "Returns:\n",
    "    int or float: The result of dividing `a` by `b`, or None if the division is not possible.\n",
    "\n",
    "Prints:\n",
    "    An error message if the arguments are not numbers or if there is an attempt to divide by zero.\n",
    "\"\"\"\n"
   ]
  },
  {
   "cell_type": "markdown",
   "metadata": {
    "id": "ZvrsUQZFN5VT"
   },
   "source": [
    "5. (4б) Реалізуйте цю функцію (із додаванням docstring у визначення функції)."
   ]
  },
  {
   "cell_type": "code",
   "execution_count": 6,
   "metadata": {
    "id": "K5h3KTVuOBP3"
   },
   "outputs": [],
   "source": [
    "def divide(a, b):\n",
    "    \"\"\"\n",
    "    Computes the division of two numbers.\n",
    "\n",
    "    Args:\n",
    "        a (int or float): The dividend.\n",
    "        b (int or float): The divisor.\n",
    "\n",
    "    Returns:\n",
    "        int or float: The result of dividing `a` by `b`, or None if the division is not possible.\n",
    "\n",
    "    Prints:\n",
    "        An error message if the arguments are not numbers or if there is an attempt to divide by zero.\n",
    "    \"\"\"\n",
    "    if not isinstance(a, (int, float)) or not isinstance(b, (int, float)):\n",
    "        print(\"Both arguments must be numbers\")\n",
    "        return None\n",
    "    if b == 0:\n",
    "        print(\"Division by zero is not possible\")\n",
    "        return None\n",
    "    return a / b\n"
   ]
  },
  {
   "cell_type": "markdown",
   "metadata": {
    "id": "IILi2wfYOwYb"
   },
   "source": [
    "6. (6б) Визначте функцію, що віднімає одне число від іншого (підказка: це буде 2 аргументи функції). При чому, якщо не визначити, скільки саме має бути віднято від числа, за замовчуванням має відніматися 1. Викличте функцію, передаючи тільки один аргумент."
   ]
  },
  {
   "cell_type": "code",
   "execution_count": 7,
   "metadata": {
    "id": "hybHnk8ROvxQ"
   },
   "outputs": [
    {
     "name": "stdout",
     "output_type": "stream",
     "text": [
      "9\n"
     ]
    }
   ],
   "source": [
    "def subtract(a, b=1):\n",
    "    return a - b\n",
    "\n",
    "# Викликаємо функцію, передаючи тільки один аргумент\n",
    "result = subtract(10)\n",
    "print(result)  # Виведе: 9\n"
   ]
  },
  {
   "cell_type": "markdown",
   "metadata": {
    "id": "UK6o8zcuR7cH"
   },
   "source": [
    "7. (10б) Визначте функцію, яка приймає iterable (ітерабельний обʼєкт, напр. список), що складається з 7ми рядкових значень - назв погодних умов (напр. \"sunny\") за кожен день у тижні. Повертає функція словник, де ключами є рядки з погодними умовами, а значеннями - кількість разів, скільки дана погода була протягом тижня (напр. {'sunny': 1, ...})."
   ]
  },
  {
   "cell_type": "code",
   "execution_count": 8,
   "metadata": {
    "id": "3gkR5gl0SyYO"
   },
   "outputs": [
    {
     "name": "stdout",
     "output_type": "stream",
     "text": [
      "{'sunny': 3, 'rainy': 2, 'cloudy': 2}\n"
     ]
    }
   ],
   "source": [
    "def count_weather_conditions(weather_conditions):\n",
    "    weather_dict = {}\n",
    "    for condition in weather_conditions:\n",
    "        if condition in weather_dict:\n",
    "            weather_dict[condition] += 1\n",
    "        else:\n",
    "            weather_dict[condition] = 1\n",
    "    return weather_dict\n",
    "\n",
    "# Приклад використання функції\n",
    "weather_conditions = [\"sunny\", \"rainy\", \"sunny\", \"cloudy\", \"sunny\", \"rainy\", \"cloudy\"]\n",
    "print(count_weather_conditions(weather_conditions))  # Виведе: {'sunny': 3, 'rainy': 2, 'cloudy': 2}\n"
   ]
  },
  {
   "cell_type": "markdown",
   "metadata": {
    "id": "x4zhem_2Syf7"
   },
   "source": [
    "8. (3б) Викличте цю функцію тричі з різними аргументами та виведіть результати на екран."
   ]
  },
  {
   "cell_type": "code",
   "execution_count": 9,
   "metadata": {
    "id": "B0agh7urS0Fc"
   },
   "outputs": [
    {
     "name": "stdout",
     "output_type": "stream",
     "text": [
      "{'sunny': 3, 'rainy': 2, 'cloudy': 2}\n",
      "{'sunny': 7}\n",
      "{'rainy': 2, 'cloudy': 2, 'sunny': 3}\n"
     ]
    }
   ],
   "source": [
    "# Перший виклик функції\n",
    "weather_conditions1 = [\"sunny\", \"rainy\", \"sunny\", \"cloudy\", \"sunny\", \"rainy\", \"cloudy\"]\n",
    "print(count_weather_conditions(weather_conditions1)) \n",
    "\n",
    "# Другий виклик функції\n",
    "weather_conditions2 = [\"sunny\", \"sunny\", \"sunny\", \"sunny\", \"sunny\", \"sunny\", \"sunny\"]\n",
    "print(count_weather_conditions(weather_conditions2))  \n",
    "\n",
    "# Третій виклик функції\n",
    "weather_conditions3 = [\"rainy\", \"rainy\", \"cloudy\", \"cloudy\", \"sunny\", \"sunny\", \"sunny\"]\n",
    "print(count_weather_conditions(weather_conditions3))\n"
   ]
  },
  {
   "cell_type": "markdown",
   "metadata": {
    "id": "bLgviTMlUlNG"
   },
   "source": [
    "9. (15б) Напишіть програму, яка б шукала необхідне число у **впорядкованому** списку цілочислених значень, де\n",
    "\n",
    "\n",
    "1.   число має вводитись з консолі.\n",
    "2.   власне алгоритм пошуку винесений в окрему функцію, яка повертає булеве значення (знайдено число - True, не знайдено - False).\n",
    "3. в залежності від результату функції, виведіть на екран повідомлення про успішний або ж неуспішний пошук.\n",
    "\n",
    "\n",
    "**Зауваження**: використовувати оператор **in** заборонено."
   ]
  },
  {
   "cell_type": "code",
   "execution_count": 11,
   "metadata": {
    "id": "LAHz6MmdcWfP"
   },
   "outputs": [
    {
     "name": "stdin",
     "output_type": "stream",
     "text": [
      "Введіть число, яке потрібно знайти:  242\n"
     ]
    },
    {
     "name": "stdout",
     "output_type": "stream",
     "text": [
      "Число не знайдено.\n"
     ]
    }
   ],
   "source": [
    "def binary_search(lst, num):\n",
    "    low = 0\n",
    "    high = len(lst) - 1\n",
    "\n",
    "    while low <= high:\n",
    "        mid = (low + high) // 2\n",
    "        if lst[mid] < num:\n",
    "            low = mid + 1\n",
    "        elif lst[mid] > num:\n",
    "            high = mid - 1\n",
    "        else:\n",
    "            return True\n",
    "    return False\n",
    "\n",
    "# Впорядкований список цілочислених значень\n",
    "lst = [1, 2, 3, 4, 5, 6, 7, 8, 9, 10]\n",
    "\n",
    "# Число, яке потрібно знайти, вводиться з консолі\n",
    "num = int(input(\"Введіть число, яке потрібно знайти: \"))\n",
    "\n",
    "# Викликаємо функцію пошуку\n",
    "found = binary_search(lst, num)\n",
    "\n",
    "# Виводимо результат\n",
    "if found:\n",
    "    print(\"Число знайдено.\")\n",
    "else:\n",
    "    print(\"Число не знайдено.\")\n"
   ]
  },
  {
   "cell_type": "markdown",
   "metadata": {
    "id": "wCKOEiKhLSld"
   },
   "source": [
    "# II. Lambda functions."
   ]
  },
  {
   "cell_type": "markdown",
   "metadata": {
    "id": "c4EBfW6QcXF7"
   },
   "source": [
    "10. (6б) Визначте анонімну функцію, що виконувала б завдання з задачі №1."
   ]
  },
  {
   "cell_type": "code",
   "execution_count": null,
   "metadata": {
    "id": "sGgO6KjuhUj5"
   },
   "outputs": [],
   "source": [
    "divide = lambda a, b: a / b if b != 0 else \"Ділення на нуль неможливе\""
   ]
  },
  {
   "cell_type": "markdown",
   "metadata": {
    "id": "fWa0efmRhepO"
   },
   "source": [
    "11. (5б) В яких випадках варто використовувати лямбда-функції?"
   ]
  },
  {
   "cell_type": "markdown",
   "metadata": {
    "id": "R68BViaPhad_"
   },
   "source": [
    "- Коли функція невелика\n",
    "- Коли вона використовується лиш раз\n",
    "- Коли функція передається як аргумент"
   ]
  },
  {
   "cell_type": "markdown",
   "metadata": {
    "id": "0CL6ikIkhU7j"
   },
   "source": [
    "12. (9б) Визначте список з рядками. Після цього визначте анонімну функцію для отримання першого символу у верхньому регістрі для кожного рядка списку.\n",
    "*Підказка*: використовуйте анонімну функцію в якості агрумента до вбудованої ф-ції, яка створена для застосування функцій над iterable обʼєктами.\n",
    "Результат виведіть на екран у вигляді кортежу."
   ]
  },
  {
   "cell_type": "code",
   "execution_count": 13,
   "metadata": {
    "id": "I1Lw2SSNhhJw"
   },
   "outputs": [
    {
     "name": "stdout",
     "output_type": "stream",
     "text": [
      "('С', 'У', 'Г', 'С')\n"
     ]
    }
   ],
   "source": [
    "# Визначаємо список з рядками\n",
    "strings = [\"слава\", \"україні\", \"героям\", \"слава\"]\n",
    "\n",
    "# Використовуємо анонімну функцію для отримання першого символу у верхньому регістрі для кожного рядка списку\n",
    "result = tuple(map(lambda s: s[0].upper(), strings))\n",
    "\n",
    "# Виводимо результат\n",
    "print(result)  # Виведе: ('H', 'W', 'P', 'P')\n"
   ]
  },
  {
   "cell_type": "markdown",
   "metadata": {
    "id": "rgGmGt67m5yi"
   },
   "source": [
    "# III. Decorators."
   ]
  },
  {
   "cell_type": "markdown",
   "metadata": {
    "id": "DZm1W0Qqncu8"
   },
   "source": [
    "13. (15б) Визначте декоратор, який би виводив у консоль повідомлення про початок роботи і назву функції, а після відпрацювання функції - повідомлення про закінчення роботи і назву функції, що задекорована."
   ]
  },
  {
   "cell_type": "code",
   "execution_count": 14,
   "metadata": {
    "id": "5s3X3F6soer0"
   },
   "outputs": [
    {
     "name": "stdout",
     "output_type": "stream",
     "text": [
      "Початок роботи функції add\n",
      "Закінчення роботи функції add\n",
      "3\n"
     ]
    }
   ],
   "source": [
    "import functools\n",
    "\n",
    "def log_decorator(func):\n",
    "    @functools.wraps(func)\n",
    "    def wrapper(*args, **kwargs):\n",
    "        print(f\"Початок роботи функції {func.__name__}\")\n",
    "        result = func(*args, **kwargs)\n",
    "        print(f\"Закінчення роботи функції {func.__name__}\")\n",
    "        return result\n",
    "    return wrapper\n",
    "\n",
    "# Використання декоратора\n",
    "@log_decorator\n",
    "def add(a, b):\n",
    "    return a + b\n",
    "\n",
    "print(add(1, 2))\n"
   ]
  },
  {
   "cell_type": "markdown",
   "metadata": {
    "id": "AlGt40oVofHB"
   },
   "source": [
    "14. (7б) Задекоруйте функції з завдання 3, 5 та 6 декоратором із завдання 13. *Примітка*: продемонструйте 2 способи, як можна задекорувати функції (**УВАГА**: не декоруйте функції двічі!)."
   ]
  },
  {
   "cell_type": "code",
   "execution_count": 17,
   "metadata": {
    "id": "hkxhoRVqo1AW"
   },
   "outputs": [],
   "source": [
    "@log_decorator\n",
    "def divide(a, b):\n",
    "    \"\"\"\n",
    "    Computes the division of two numbers.\n",
    "\n",
    "    Args:\n",
    "        a (int or float): The dividend.\n",
    "        b (int or float): The divisor.\n",
    "\n",
    "    Returns:\n",
    "        int or float: The result of dividing `a` by `b`, or None if the division is not possible.\n",
    "\n",
    "    Prints:\n",
    "        An error message if the arguments are not numbers or if there is an attempt to divide by zero.\n",
    "    \"\"\"\n",
    "    if not isinstance(a, (int, float)) or not isinstance(b, (int, float)):\n",
    "        print(\"Both arguments must be numbers\")\n",
    "        return None\n",
    "    if b == 0:\n",
    "        print(\"Division by zero is not possible\")\n",
    "        return None\n",
    "    return a / b\n"
   ]
  },
  {
   "cell_type": "markdown",
   "metadata": {
    "id": "6QkS0Kxzo4UR"
   },
   "source": [
    "15. (2б) Викличте одну з задекорованих функцій і виведіть її результат на екран."
   ]
  },
  {
   "cell_type": "code",
   "execution_count": 18,
   "metadata": {
    "id": "BCCCPai6o-y5"
   },
   "outputs": [
    {
     "name": "stdout",
     "output_type": "stream",
     "text": [
      "Початок роботи функції divide\n",
      "Закінчення роботи функції divide\n"
     ]
    },
    {
     "data": {
      "text/plain": [
       "5.0"
      ]
     },
     "execution_count": 18,
     "metadata": {},
     "output_type": "execute_result"
    }
   ],
   "source": [
    "divide(10, 2)"
   ]
  },
  {
   "cell_type": "markdown",
   "metadata": {
    "id": "CSN0Q5pMQVNQ"
   },
   "source": [
    "# Вітаю! Ви велика(ий) молодець, що впоралась(вся). Похваліть себе та побалуйте чимось приємним. Я Вами пишаюся."
   ]
  }
 ],
 "metadata": {
  "colab": {
   "provenance": []
  },
  "kernelspec": {
   "display_name": "Python 3 (ipykernel)",
   "language": "python",
   "name": "python3"
  },
  "language_info": {
   "codemirror_mode": {
    "name": "ipython",
    "version": 3
   },
   "file_extension": ".py",
   "mimetype": "text/x-python",
   "name": "python",
   "nbconvert_exporter": "python",
   "pygments_lexer": "ipython3",
   "version": "3.12.1"
  }
 },
 "nbformat": 4,
 "nbformat_minor": 4
}
