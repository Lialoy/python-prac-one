{
 "cells": [
  {
   "cell_type": "markdown",
   "metadata": {
    "id": "bhnw_OBiped2"
   },
   "source": [
    "# I. range."
   ]
  },
  {
   "cell_type": "markdown",
   "metadata": {
    "id": "cS4sWGwctkLH"
   },
   "source": [
    "1. (4 бали) Створіть обʼєкт типу range, який буде містити послідовність цілих чисел від 0 до 9 включно. Виведіть його довжину (кількість значень)."
   ]
  },
  {
   "cell_type": "code",
   "execution_count": 7,
   "metadata": {
    "id": "1XFhN5gVte4X"
   },
   "outputs": [
    {
     "name": "stdout",
     "output_type": "stream",
     "text": [
      "0\n",
      "1\n",
      "2\n",
      "3\n",
      "4\n",
      "5\n",
      "6\n",
      "7\n",
      "8\n",
      "9\n",
      "length: 10\n"
     ]
    }
   ],
   "source": [
    "my_range = range(10)\n",
    "\n",
    "for i in my_range:\n",
    "    print(i)\n",
    "\n",
    "print(f\"length: {len(my_range)}\")"
   ]
  },
  {
   "cell_type": "markdown",
   "metadata": {
    "id": "VZ0Dh0m-t9tM"
   },
   "source": [
    "2. (5 балів) Створіть обʼєкт типу range, який буде містити послідовність цілих чисел (16, 13, 10, 7, 4, 1, -2, -5)"
   ]
  },
  {
   "cell_type": "code",
   "execution_count": 8,
   "metadata": {
    "id": "YavF1Agaoe8J"
   },
   "outputs": [
    {
     "name": "stdout",
     "output_type": "stream",
     "text": [
      "16\n",
      "13\n",
      "10\n",
      "7\n",
      "4\n",
      "1\n",
      "-2\n",
      "-5\n"
     ]
    }
   ],
   "source": [
    "# Створення об'єкта типу range\n",
    "my_range = range(16, -6, -3)\n",
    "\n",
    "for i in my_range:\n",
    "    print(i)"
   ]
  },
  {
   "cell_type": "markdown",
   "metadata": {
    "id": "nBmE3_nMuavj"
   },
   "source": [
    "3. (4 бали) Створіть змінну зі значенням цілого типу. Перевірте, чи вона належить проміжку від 49 до 100 включно. Як ви гадаєте, для чого використовуються range?"
   ]
  },
  {
   "cell_type": "code",
   "execution_count": 10,
   "metadata": {
    "id": "5KmgBmOIuku4"
   },
   "outputs": [
    {
     "name": "stdout",
     "output_type": "stream",
     "text": [
      "True\n"
     ]
    }
   ],
   "source": [
    "num = 98\n",
    "\n",
    "print(num in range(49, 100))"
   ]
  },
  {
   "cell_type": "markdown",
   "metadata": {
    "id": "hZHtKQUJxDxj"
   },
   "source": [
    "функція range() використовується для створення послідовності цілих чисел, які можна використовувати для ітерації, індексації або перевірки наявності"
   ]
  },
  {
   "cell_type": "markdown",
   "metadata": {
    "id": "56FjMkPatTD6"
   },
   "source": [
    "# II. Comprehensions."
   ]
  },
  {
   "cell_type": "markdown",
   "metadata": {
    "id": "AZyfyNfYvOyq"
   },
   "source": [
    "4. (6 балів) Створіть множину (set), використовуючи range та set comprehension."
   ]
  },
  {
   "cell_type": "code",
   "execution_count": 11,
   "metadata": {
    "id": "DE8oNYSUvNfR"
   },
   "outputs": [
    {
     "name": "stdout",
     "output_type": "stream",
     "text": [
      "{64, 1, 4, 36, 100, 9, 16, 49, 81, 25}\n"
     ]
    }
   ],
   "source": [
    "# Множина що містить квадрати чисел від 1 до 10\n",
    "my_set = {x**2 for x in range(1, 11)}\n",
    "print(my_set)\n"
   ]
  },
  {
   "cell_type": "markdown",
   "metadata": {
    "id": "5IsyYnolvWxJ"
   },
   "source": [
    "5. (8 балів) Створіть словник, використовуючи dict comprehension, що містить if else. Коли слід використовувати comprehensions, а коли їх слід уникати?"
   ]
  },
  {
   "cell_type": "code",
   "execution_count": 12,
   "metadata": {
    "id": "PTLiarj4vWVu"
   },
   "outputs": [
    {
     "name": "stdout",
     "output_type": "stream",
     "text": [
      "{1: 1, 2: 4, 3: 27, 4: 16, 5: 125, 6: 36, 7: 343, 8: 64, 9: 729, 10: 100}\n"
     ]
    }
   ],
   "source": [
    "# Створення словника, який містить квадрати парних чисел та куби непарних чисел від 1 до 10\n",
    "my_dict = {x: x**2 if x % 2 == 0 else x**3 for x in range(1, 11)}\n",
    "print(my_dict)\n"
   ]
  },
  {
   "cell_type": "markdown",
   "metadata": {
    "id": "PcwgYcjdxYPA"
   },
   "source": [
    "Comprehensions - це спосіб створити нові ітерабельні об’єкти з існуючих, використовуючи фільтрацію, відображення або умовну логіку. Вони можуть зробити код елегантним і читабельним, але вони не підходять для всіх ситуацій. Comprehensions варто використовувати коли вони полегшують роботу, дотримуючись стандартів написання коду на Python."
   ]
  },
  {
   "cell_type": "markdown",
   "metadata": {
    "id": "xPVEDwk6vfhU"
   },
   "source": [
    "6. (7 балів) Створіть список з рядками та запишіть його у змінну. Створіть ще один список на основі попереднього, де кожен рядок буде містити тільки три перших заглавних символи. Наприклад: ['hello', 'i', 'dont', 'care'] -> ['HEL', 'I', 'DON', 'CAR']"
   ]
  },
  {
   "cell_type": "code",
   "execution_count": null,
   "metadata": {
    "id": "l1FAM69Owi7q"
   },
   "outputs": [],
   "source": [
    "my_list = ['hello', 'i', 'dont', 'care']\n",
    "\n",
    "new_list = [s[:3].upper() for s in my_list]\n",
    "\n",
    "print(new_list)\n"
   ]
  },
  {
   "cell_type": "markdown",
   "metadata": {
    "id": "9zEB8ekEtTnQ"
   },
   "source": [
    "# III. Цикли."
   ]
  },
  {
   "cell_type": "markdown",
   "metadata": {
    "id": "AlEfFe4Fwv8n"
   },
   "source": [
    "7. (6 балів) Продемонструйте роботу циклу while. Чи можна використовувати в умові циклу булеві значення? Чому?"
   ]
  },
  {
   "cell_type": "code",
   "execution_count": null,
   "metadata": {
    "id": "kiDSbqo0wwMZ"
   },
   "outputs": [],
   "source": [
    "count = 0\n",
    "\n",
    "while count < 5:\n",
    "    print(f'Count is: {count}')\n",
    "    count += 1\n",
    "\n",
    "#Звісно можна в умові використовувати True та False, але в першому випадку цикл ніколи не зупиниться, а в другому тніколи не виконається"
   ]
  },
  {
   "cell_type": "markdown",
   "metadata": {
    "id": "J9TkD5_Cx3I1"
   },
   "source": [
    "8. (8 балів) Напишіть програму, яка виведе на екран непарні числа в діапазоні від 0 до 20 включно."
   ]
  },
  {
   "cell_type": "code",
   "execution_count": 13,
   "metadata": {
    "id": "5A1d-qvVx34B"
   },
   "outputs": [
    {
     "name": "stdout",
     "output_type": "stream",
     "text": [
      "1\n",
      "3\n",
      "5\n",
      "7\n",
      "9\n",
      "11\n",
      "13\n",
      "15\n",
      "17\n",
      "19\n"
     ]
    }
   ],
   "source": [
    "for i in range(21):\n",
    "    if i % 2 != 0:\n",
    "        print(i)\n"
   ]
  },
  {
   "cell_type": "markdown",
   "metadata": {
    "id": "xN6Kfmqex4NU"
   },
   "source": [
    "9. (7 балів) Створіть список з елементами булевого типу або None. Використовуючи цикли, отримайте в результаті список з кортежами, де перший елемент кортежу - індекс(ціле число), а другий елемент - відповідне значення з першого списку.\n",
    "\n",
    "Наприклад, [True, True, None, False] -> [(0, True), (1, True), (2, None), (3, False)]"
   ]
  },
  {
   "cell_type": "code",
   "execution_count": 14,
   "metadata": {
    "id": "YhVlQnNIx405"
   },
   "outputs": [
    {
     "name": "stdout",
     "output_type": "stream",
     "text": [
      "[(0, True), (1, False), (2, None), (3, True), (4, None), (5, False), (6, True)]\n"
     ]
    }
   ],
   "source": [
    "bool_list = [True, False, None, True, None, False, True]\n",
    "\n",
    "tuple_list = [(i, val) for i, val in enumerate(bool_list)]\n",
    "\n",
    "print(tuple_list)\n"
   ]
  },
  {
   "cell_type": "markdown",
   "metadata": {
    "id": "cJNlWxHLx5mW"
   },
   "source": [
    "10. (10 балів) Створіть словник, де ключі - назви книжок, а значення - їхня кількість у наявності в Вашій міні-бібліотеці. Бібліотека має містити щонайменше 6 книжок (6 пар значень у словнику) і щонайбільше 10 (пар значень). Використовуючи цикли, оновіть словник (не створюйте новий) так, щоби кількість книг у наявності збільшилося на 5 кожної книги. Наприклад,\n",
    "{'It': 3, 'Fault stars': 10, 'Bible': 17, 'Psychological romance': 4, 'Harry Potter': 13} -> {'It': 8, 'Fault stars': 15, 'Bible': 22, 'Psychological romance': 9, 'Harry Potter': 18}"
   ]
  },
  {
   "cell_type": "code",
   "execution_count": 15,
   "metadata": {
    "id": "pI7I71ao0qh_"
   },
   "outputs": [
    {
     "name": "stdout",
     "output_type": "stream",
     "text": [
      "{'It': 8, 'Fault stars': 15, 'Bible': 22, 'Psychological romance': 9, 'Harry Potter': 18, 'The Great Gatsby': 12}\n"
     ]
    }
   ],
   "source": [
    "book_dict = {'It': 3, 'Fault stars': 10, 'Bible': 17, 'Psychological romance': 4, 'Harry Potter': 13, 'The Great Gatsby': 7}\n",
    "\n",
    "for book in book_dict:\n",
    "    book_dict[book] += 5\n",
    "\n",
    "print(book_dict)\n"
   ]
  },
  {
   "cell_type": "markdown",
   "metadata": {
    "id": "qdZA6qi82GBa"
   },
   "source": [
    "11. (15 балів) Визначте цілочислену змінну n, що належить проміжку від 4 до 10 включно. Використовуючи цикли, виведіть в консоль наступний патерн.\n",
    "\n",
    "#\n",
    "##\n",
    "###\n",
    "####\n",
    "\n",
    "... #*n\n"
   ]
  },
  {
   "cell_type": "code",
   "execution_count": 18,
   "metadata": {
    "id": "aaHuUQHfx6YO"
   },
   "outputs": [
    {
     "name": "stdout",
     "output_type": "stream",
     "text": [
      "# \n",
      "# # \n",
      "# # # \n",
      "# # # # \n",
      "# # # # # \n",
      "# # # # # # \n"
     ]
    }
   ],
   "source": [
    "n = 6\n",
    "\n",
    "for i in range(1, n+1):\n",
    "    print('# ' * i)\n",
    "\n",
    "# трішки змінив патерн додавши пробіл для краси, але не думаю, що це буде проблемою)"
   ]
  },
  {
   "cell_type": "markdown",
   "metadata": {
    "id": "XOniyaun74Ed"
   },
   "source": [
    "12. (20 балів) Гра \"Нумо вгадай\".\n",
    "Розробіть просту гру, де користувач має вгадати випадкове число від 1 до 100. Для генерації випадкового числа використовуйте функцію random.randint(a, b) (тут a та b включно). Для отримання числа з консолі використовуйте функцію input(), результат якої обовʼязково явно приведіть до типу int.\n",
    "\n",
    "Підказка: використовуйте цикл while та умови if-else, щоб повідомити користувачу піказки (напр. \"Більше\", \"Менше\") поки користувач не вгадає. По завершенню виведіть кількість спроб, які знадобилися для вгадування.\n"
   ]
  },
  {
   "cell_type": "code",
   "execution_count": 19,
   "metadata": {
    "id": "iomCeUuW73NG"
   },
   "outputs": [
    {
     "name": "stdin",
     "output_type": "stream",
     "text": [
      "Введіть число від 1 до 100:  3\n"
     ]
    },
    {
     "name": "stdout",
     "output_type": "stream",
     "text": [
      "Більше\n"
     ]
    },
    {
     "name": "stdin",
     "output_type": "stream",
     "text": [
      "Введіть число від 1 до 100:  20\n"
     ]
    },
    {
     "name": "stdout",
     "output_type": "stream",
     "text": [
      "Більше\n"
     ]
    },
    {
     "name": "stdin",
     "output_type": "stream",
     "text": [
      "Введіть число від 1 до 100:  70\n"
     ]
    },
    {
     "name": "stdout",
     "output_type": "stream",
     "text": [
      "Менше\n"
     ]
    },
    {
     "name": "stdin",
     "output_type": "stream",
     "text": [
      "Введіть число від 1 до 100:  50\n"
     ]
    },
    {
     "name": "stdout",
     "output_type": "stream",
     "text": [
      "Більше\n"
     ]
    },
    {
     "name": "stdin",
     "output_type": "stream",
     "text": [
      "Введіть число від 1 до 100:  60\n"
     ]
    },
    {
     "name": "stdout",
     "output_type": "stream",
     "text": [
      "Менше\n"
     ]
    },
    {
     "name": "stdin",
     "output_type": "stream",
     "text": [
      "Введіть число від 1 до 100:  55\n"
     ]
    },
    {
     "name": "stdout",
     "output_type": "stream",
     "text": [
      "Більше\n"
     ]
    },
    {
     "name": "stdin",
     "output_type": "stream",
     "text": [
      "Введіть число від 1 до 100:  57\n"
     ]
    },
    {
     "name": "stdout",
     "output_type": "stream",
     "text": [
      "Більше\n"
     ]
    },
    {
     "name": "stdin",
     "output_type": "stream",
     "text": [
      "Введіть число від 1 до 100:  58\n"
     ]
    },
    {
     "name": "stdout",
     "output_type": "stream",
     "text": [
      "Ви вгадали число!\n",
      "Вам знадобилось 8 спроб.\n"
     ]
    }
   ],
   "source": [
    "import random\n",
    "\n",
    "# Генеруємо випадкове число від 1 до 100\n",
    "random_number = random.randint(1, 100)\n",
    "\n",
    "# Ініціалізуємо лічильник спроб\n",
    "attempt_count = 0\n",
    "\n",
    "while True:\n",
    "    # Запитуємо у користувача число\n",
    "    user_number = int(input(\"Введіть число від 1 до 100: \"))\n",
    "    attempt_count += 1\n",
    "\n",
    "    # Перевіряємо, чи вгадав користувач число\n",
    "    if user_number == random_number:\n",
    "        print(\"Ви вгадали число!\")\n",
    "        print(f\"Вам знадобилось {attempt_count} спроб.\")\n",
    "        break\n",
    "    elif user_number < random_number:\n",
    "        print(\"Більше\")\n",
    "    else:\n",
    "        print(\"Менше\")\n"
   ]
  },
  {
   "cell_type": "markdown",
   "metadata": {
    "id": "jTs-rqOptY2R"
   },
   "source": [
    "# Вітаю! Ви велика(ий) молодець, що впоралась(вся). Похваліть себе та побалуйте чимось приємним. Я Вами пишаюся."
   ]
  }
 ],
 "metadata": {
  "colab": {
   "provenance": []
  },
  "kernelspec": {
   "display_name": "Python 3 (ipykernel)",
   "language": "python",
   "name": "python3"
  },
  "language_info": {
   "codemirror_mode": {
    "name": "ipython",
    "version": 3
   },
   "file_extension": ".py",
   "mimetype": "text/x-python",
   "name": "python",
   "nbconvert_exporter": "python",
   "pygments_lexer": "ipython3",
   "version": "3.12.1"
  }
 },
 "nbformat": 4,
 "nbformat_minor": 4
}
